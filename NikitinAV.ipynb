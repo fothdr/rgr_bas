{
  "nbformat": 4,
  "nbformat_minor": 0,
  "metadata": {
    "colab": {
      "name": "Untitled0.ipynb",
      "provenance": [],
      "collapsed_sections": []
    },
    "kernelspec": {
      "name": "python3",
      "display_name": "Python 3"
    },
    "language_info": {
      "name": "python"
    }
  },
  "cells": [
    {
      "cell_type": "code",
      "execution_count": null,
      "metadata": {
        "id": "b2xrQ3fI0i2M"
      },
      "outputs": [],
      "source": [
        ""
      ]
    },
    {
      "cell_type": "markdown",
      "source": [
        "# Заголовок первого уровня\n",
        "## Заголовок второго уровня\n",
        "### Заголовок третьего уровня\n",
        "\n",
        "### Греческий алфавит\n",
        "\\begin{array}{|c|c|} \\hline\n",
        "Строчная~и~заглавная &  Название \\\\ \\hline\n",
        "\\alpha ~A&Альфа \\\\ \\hline\n",
        "\\beta ~Ba&Бета\\\\ \\hline\n",
        "\\gamma ~\\Gamma&Гамма\\\\ \\hline\n",
        "\\delta ~\\Delta&Дельта \\\\ \\hline\n",
        "\\epsilon ~\\varepsilon ~E&Эпсилон \\\\ \\hline\n",
        "\\zeta ~Z&Дзета \\\\ \\hline\n",
        "\\eta ~H&Эта \\\\ \\hline\n",
        "\\theta ~\\vartheta ~\\Theta&Тета \\\\ \\hline\n",
        "\\iota ~I&Йота \\\\ \\hline\n",
        "\\kappa ~K&Каппа \\\\ \\hline\n",
        "\\lambda ~\\Lambda&Лямдба \\\\ \\hline\n",
        "\\mu ~M&Мю \\\\ \\hline\n",
        "\\nu ~N&Ню \\\\ \\hline\n",
        "\\xi ~\\Xi&Кси \\\\ \\hline\n",
        "\\text\to ~O&Омикрон \\\\ \\hline\n",
        "\\pi ~\\Pi&Пи \\\\ \\hline\n",
        "\\rho ~\\varrho P&Ро \\\\ \\hline\n",
        "\\sigma ~\\Sigma&Сигма \\\\ \\hline\n",
        "\\tau ~T&Тау \\\\ \\hline\n",
        "\\upsilon ~\\Upsilon&Ипсилон \\\\ \\hline\n",
        "\\phi ~\\varphi ~\\Phi&Фи \\\\ \\hline\n",
        "\\chi ~X&Хи \\\\ \\hline\n",
        "\\psi ~\\Psi&Пси \\\\ \\hline\n",
        "\\omega ~\\Omega&Омега \\\\ \\hline\n",
        "\\end{array}\n",
        "\n",
        "### Формула для нормального распределения в LaTeX будет выглядеть так:\n",
		"$${\\displaystyle f(x)={\\frac {1}{\\sigma {\\sqrt {2\\pi }}}}e^\n",
        "{-{\\frac {1}{2}}\\left({\\frac {x-\\mu }{\\sigma }}\\right)^{2}}}$$\n",
        "\n",
        "\n",
        "       \n",
        " "
      ],
      "metadata": {
        "id": "RWQxr1UU0jSn"
      }
    }
  ]
}